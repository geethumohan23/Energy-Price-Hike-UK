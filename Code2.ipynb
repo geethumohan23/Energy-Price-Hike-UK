{
 "cells": [
  {
   "cell_type": "markdown",
   "id": "e3f785ac",
   "metadata": {},
   "source": [
    "# Comparing Various Regression Algorithms"
   ]
  },
  {
   "cell_type": "markdown",
   "id": "7efb7973",
   "metadata": {},
   "source": [
    "## Linear Regression"
   ]
  },
  {
   "cell_type": "code",
   "execution_count": 1,
   "id": "813cfc91",
   "metadata": {},
   "outputs": [],
   "source": [
    "#Import necessary libraries\n",
    "import matplotlib.pyplot as plt\n",
    "import numpy as np\n",
    "import pandas as pd\n",
    "import seaborn as sns\n",
    "%matplotlib inline"
   ]
  },
  {
   "cell_type": "code",
   "execution_count": 2,
   "id": "f3321453",
   "metadata": {},
   "outputs": [
    {
     "data": {
      "text/html": [
       "<div>\n",
       "<style scoped>\n",
       "    .dataframe tbody tr th:only-of-type {\n",
       "        vertical-align: middle;\n",
       "    }\n",
       "\n",
       "    .dataframe tbody tr th {\n",
       "        vertical-align: top;\n",
       "    }\n",
       "\n",
       "    .dataframe thead th {\n",
       "        text-align: right;\n",
       "    }\n",
       "</style>\n",
       "<table border=\"1\" class=\"dataframe\">\n",
       "  <thead>\n",
       "    <tr style=\"text-align: right;\">\n",
       "      <th></th>\n",
       "      <th>F1</th>\n",
       "      <th>F2</th>\n",
       "      <th>F3</th>\n",
       "      <th>F4</th>\n",
       "      <th>F5</th>\n",
       "      <th>F6</th>\n",
       "      <th>F7</th>\n",
       "      <th>F8</th>\n",
       "      <th>F9</th>\n",
       "      <th>F10</th>\n",
       "      <th>...</th>\n",
       "      <th>F28</th>\n",
       "      <th>F29</th>\n",
       "      <th>F30</th>\n",
       "      <th>F31</th>\n",
       "      <th>F32</th>\n",
       "      <th>F33</th>\n",
       "      <th>F34</th>\n",
       "      <th>F35</th>\n",
       "      <th>F36</th>\n",
       "      <th>Target</th>\n",
       "    </tr>\n",
       "  </thead>\n",
       "  <tbody>\n",
       "    <tr>\n",
       "      <th>0</th>\n",
       "      <td>-69.21</td>\n",
       "      <td>16536.84</td>\n",
       "      <td>6</td>\n",
       "      <td>Europe</td>\n",
       "      <td>-16720.42</td>\n",
       "      <td>735.74</td>\n",
       "      <td>22.14</td>\n",
       "      <td>15.48</td>\n",
       "      <td>Medium</td>\n",
       "      <td>124.05</td>\n",
       "      <td>...</td>\n",
       "      <td>-506.31</td>\n",
       "      <td>-3077.82</td>\n",
       "      <td>15.35</td>\n",
       "      <td>-53.04</td>\n",
       "      <td>-112.43</td>\n",
       "      <td>-2537.30</td>\n",
       "      <td>4.06</td>\n",
       "      <td>40.32</td>\n",
       "      <td>3.18</td>\n",
       "      <td>2697.84</td>\n",
       "    </tr>\n",
       "    <tr>\n",
       "      <th>1</th>\n",
       "      <td>-168.67</td>\n",
       "      <td>28434.21</td>\n",
       "      <td>12</td>\n",
       "      <td>UK</td>\n",
       "      <td>-8070.93</td>\n",
       "      <td>91.35</td>\n",
       "      <td>-1.86</td>\n",
       "      <td>18.60</td>\n",
       "      <td>Very high</td>\n",
       "      <td>57.78</td>\n",
       "      <td>...</td>\n",
       "      <td>-731.28</td>\n",
       "      <td>-4559.70</td>\n",
       "      <td>20.74</td>\n",
       "      <td>-36.44</td>\n",
       "      <td>-44.06</td>\n",
       "      <td>-2384.48</td>\n",
       "      <td>33.52</td>\n",
       "      <td>176.98</td>\n",
       "      <td>5.81</td>\n",
       "      <td>3632.57</td>\n",
       "    </tr>\n",
       "    <tr>\n",
       "      <th>2</th>\n",
       "      <td>-76.19</td>\n",
       "      <td>22895.97</td>\n",
       "      <td>18</td>\n",
       "      <td>Europe</td>\n",
       "      <td>-12126.02</td>\n",
       "      <td>145.64</td>\n",
       "      <td>-68.28</td>\n",
       "      <td>14.22</td>\n",
       "      <td>High</td>\n",
       "      <td>-65.88</td>\n",
       "      <td>...</td>\n",
       "      <td>-355.08</td>\n",
       "      <td>-3965.13</td>\n",
       "      <td>16.65</td>\n",
       "      <td>-76.06</td>\n",
       "      <td>-81.66</td>\n",
       "      <td>-2225.42</td>\n",
       "      <td>28.90</td>\n",
       "      <td>165.00</td>\n",
       "      <td>2.85</td>\n",
       "      <td>2257.40</td>\n",
       "    </tr>\n",
       "    <tr>\n",
       "      <th>3</th>\n",
       "      <td>-103.19</td>\n",
       "      <td>22926.51</td>\n",
       "      <td>12</td>\n",
       "      <td>Europe</td>\n",
       "      <td>-10050.95</td>\n",
       "      <td>218.39</td>\n",
       "      <td>-40.58</td>\n",
       "      <td>14.99</td>\n",
       "      <td>Very high</td>\n",
       "      <td>132.12</td>\n",
       "      <td>...</td>\n",
       "      <td>-518.52</td>\n",
       "      <td>-1509.87</td>\n",
       "      <td>21.99</td>\n",
       "      <td>-128.34</td>\n",
       "      <td>-142.53</td>\n",
       "      <td>-1320.10</td>\n",
       "      <td>1.12</td>\n",
       "      <td>211.88</td>\n",
       "      <td>2.96</td>\n",
       "      <td>1785.03</td>\n",
       "    </tr>\n",
       "    <tr>\n",
       "      <th>4</th>\n",
       "      <td>-49.84</td>\n",
       "      <td>-4224.12</td>\n",
       "      <td>6</td>\n",
       "      <td>Rest</td>\n",
       "      <td>-10197.84</td>\n",
       "      <td>-346.17</td>\n",
       "      <td>-47.04</td>\n",
       "      <td>8.92</td>\n",
       "      <td>High</td>\n",
       "      <td>113.31</td>\n",
       "      <td>...</td>\n",
       "      <td>-576.60</td>\n",
       "      <td>-1907.67</td>\n",
       "      <td>14.10</td>\n",
       "      <td>72.98</td>\n",
       "      <td>-75.83</td>\n",
       "      <td>-2019.04</td>\n",
       "      <td>8.16</td>\n",
       "      <td>154.32</td>\n",
       "      <td>2.92</td>\n",
       "      <td>1063.23</td>\n",
       "    </tr>\n",
       "  </tbody>\n",
       "</table>\n",
       "<p>5 rows × 37 columns</p>\n",
       "</div>"
      ],
      "text/plain": [
       "       F1        F2  F3      F4        F5      F6     F7     F8         F9  \\\n",
       "0  -69.21  16536.84   6  Europe -16720.42  735.74  22.14  15.48     Medium   \n",
       "1 -168.67  28434.21  12      UK  -8070.93   91.35  -1.86  18.60  Very high   \n",
       "2  -76.19  22895.97  18  Europe -12126.02  145.64 -68.28  14.22       High   \n",
       "3 -103.19  22926.51  12  Europe -10050.95  218.39 -40.58  14.99  Very high   \n",
       "4  -49.84  -4224.12   6    Rest -10197.84 -346.17 -47.04   8.92       High   \n",
       "\n",
       "      F10  ...     F28      F29    F30     F31     F32      F33    F34  \\\n",
       "0  124.05  ... -506.31 -3077.82  15.35  -53.04 -112.43 -2537.30   4.06   \n",
       "1   57.78  ... -731.28 -4559.70  20.74  -36.44  -44.06 -2384.48  33.52   \n",
       "2  -65.88  ... -355.08 -3965.13  16.65  -76.06  -81.66 -2225.42  28.90   \n",
       "3  132.12  ... -518.52 -1509.87  21.99 -128.34 -142.53 -1320.10   1.12   \n",
       "4  113.31  ... -576.60 -1907.67  14.10   72.98  -75.83 -2019.04   8.16   \n",
       "\n",
       "      F35   F36   Target  \n",
       "0   40.32  3.18  2697.84  \n",
       "1  176.98  5.81  3632.57  \n",
       "2  165.00  2.85  2257.40  \n",
       "3  211.88  2.96  1785.03  \n",
       "4  154.32  2.92  1063.23  \n",
       "\n",
       "[5 rows x 37 columns]"
      ]
     },
     "execution_count": 2,
     "metadata": {},
     "output_type": "execute_result"
    }
   ],
   "source": [
    "#Read data from local storage\n",
    "Data = pd.read_csv('P3\\CE802_P3_Data.csv', dayfirst=True)\n",
    "Data.head()"
   ]
  },
  {
   "cell_type": "code",
   "execution_count": 3,
   "id": "484d7e93",
   "metadata": {},
   "outputs": [
    {
     "data": {
      "text/html": [
       "<div>\n",
       "<style scoped>\n",
       "    .dataframe tbody tr th:only-of-type {\n",
       "        vertical-align: middle;\n",
       "    }\n",
       "\n",
       "    .dataframe tbody tr th {\n",
       "        vertical-align: top;\n",
       "    }\n",
       "\n",
       "    .dataframe thead th {\n",
       "        text-align: right;\n",
       "    }\n",
       "</style>\n",
       "<table border=\"1\" class=\"dataframe\">\n",
       "  <thead>\n",
       "    <tr style=\"text-align: right;\">\n",
       "      <th></th>\n",
       "      <th>F1</th>\n",
       "      <th>F2</th>\n",
       "      <th>F3</th>\n",
       "      <th>F4</th>\n",
       "      <th>F5</th>\n",
       "      <th>F6</th>\n",
       "      <th>F7</th>\n",
       "      <th>F8</th>\n",
       "      <th>F9</th>\n",
       "      <th>F10</th>\n",
       "      <th>...</th>\n",
       "      <th>F28</th>\n",
       "      <th>F29</th>\n",
       "      <th>F30</th>\n",
       "      <th>F31</th>\n",
       "      <th>F32</th>\n",
       "      <th>F33</th>\n",
       "      <th>F34</th>\n",
       "      <th>F35</th>\n",
       "      <th>F36</th>\n",
       "      <th>Target</th>\n",
       "    </tr>\n",
       "  </thead>\n",
       "  <tbody>\n",
       "    <tr>\n",
       "      <th>0</th>\n",
       "      <td>-69.21</td>\n",
       "      <td>16536.84</td>\n",
       "      <td>6</td>\n",
       "      <td>Europe</td>\n",
       "      <td>-16720.42</td>\n",
       "      <td>735.74</td>\n",
       "      <td>22.14</td>\n",
       "      <td>15.48</td>\n",
       "      <td>Medium</td>\n",
       "      <td>124.05</td>\n",
       "      <td>...</td>\n",
       "      <td>-506.31</td>\n",
       "      <td>-3077.82</td>\n",
       "      <td>15.35</td>\n",
       "      <td>-53.04</td>\n",
       "      <td>-112.43</td>\n",
       "      <td>-2537.30</td>\n",
       "      <td>4.06</td>\n",
       "      <td>40.32</td>\n",
       "      <td>3.18</td>\n",
       "      <td>2697.84</td>\n",
       "    </tr>\n",
       "    <tr>\n",
       "      <th>1</th>\n",
       "      <td>-168.67</td>\n",
       "      <td>28434.21</td>\n",
       "      <td>12</td>\n",
       "      <td>UK</td>\n",
       "      <td>-8070.93</td>\n",
       "      <td>91.35</td>\n",
       "      <td>-1.86</td>\n",
       "      <td>18.60</td>\n",
       "      <td>Very high</td>\n",
       "      <td>57.78</td>\n",
       "      <td>...</td>\n",
       "      <td>-731.28</td>\n",
       "      <td>-4559.70</td>\n",
       "      <td>20.74</td>\n",
       "      <td>-36.44</td>\n",
       "      <td>-44.06</td>\n",
       "      <td>-2384.48</td>\n",
       "      <td>33.52</td>\n",
       "      <td>176.98</td>\n",
       "      <td>5.81</td>\n",
       "      <td>3632.57</td>\n",
       "    </tr>\n",
       "    <tr>\n",
       "      <th>2</th>\n",
       "      <td>-76.19</td>\n",
       "      <td>22895.97</td>\n",
       "      <td>18</td>\n",
       "      <td>Europe</td>\n",
       "      <td>-12126.02</td>\n",
       "      <td>145.64</td>\n",
       "      <td>-68.28</td>\n",
       "      <td>14.22</td>\n",
       "      <td>High</td>\n",
       "      <td>-65.88</td>\n",
       "      <td>...</td>\n",
       "      <td>-355.08</td>\n",
       "      <td>-3965.13</td>\n",
       "      <td>16.65</td>\n",
       "      <td>-76.06</td>\n",
       "      <td>-81.66</td>\n",
       "      <td>-2225.42</td>\n",
       "      <td>28.90</td>\n",
       "      <td>165.00</td>\n",
       "      <td>2.85</td>\n",
       "      <td>2257.40</td>\n",
       "    </tr>\n",
       "    <tr>\n",
       "      <th>3</th>\n",
       "      <td>-103.19</td>\n",
       "      <td>22926.51</td>\n",
       "      <td>12</td>\n",
       "      <td>Europe</td>\n",
       "      <td>-10050.95</td>\n",
       "      <td>218.39</td>\n",
       "      <td>-40.58</td>\n",
       "      <td>14.99</td>\n",
       "      <td>Very high</td>\n",
       "      <td>132.12</td>\n",
       "      <td>...</td>\n",
       "      <td>-518.52</td>\n",
       "      <td>-1509.87</td>\n",
       "      <td>21.99</td>\n",
       "      <td>-128.34</td>\n",
       "      <td>-142.53</td>\n",
       "      <td>-1320.10</td>\n",
       "      <td>1.12</td>\n",
       "      <td>211.88</td>\n",
       "      <td>2.96</td>\n",
       "      <td>1785.03</td>\n",
       "    </tr>\n",
       "    <tr>\n",
       "      <th>4</th>\n",
       "      <td>-49.84</td>\n",
       "      <td>-4224.12</td>\n",
       "      <td>6</td>\n",
       "      <td>Rest</td>\n",
       "      <td>-10197.84</td>\n",
       "      <td>-346.17</td>\n",
       "      <td>-47.04</td>\n",
       "      <td>8.92</td>\n",
       "      <td>High</td>\n",
       "      <td>113.31</td>\n",
       "      <td>...</td>\n",
       "      <td>-576.60</td>\n",
       "      <td>-1907.67</td>\n",
       "      <td>14.10</td>\n",
       "      <td>72.98</td>\n",
       "      <td>-75.83</td>\n",
       "      <td>-2019.04</td>\n",
       "      <td>8.16</td>\n",
       "      <td>154.32</td>\n",
       "      <td>2.92</td>\n",
       "      <td>1063.23</td>\n",
       "    </tr>\n",
       "  </tbody>\n",
       "</table>\n",
       "<p>5 rows × 37 columns</p>\n",
       "</div>"
      ],
      "text/plain": [
       "       F1        F2  F3      F4        F5      F6     F7     F8         F9  \\\n",
       "0  -69.21  16536.84   6  Europe -16720.42  735.74  22.14  15.48     Medium   \n",
       "1 -168.67  28434.21  12      UK  -8070.93   91.35  -1.86  18.60  Very high   \n",
       "2  -76.19  22895.97  18  Europe -12126.02  145.64 -68.28  14.22       High   \n",
       "3 -103.19  22926.51  12  Europe -10050.95  218.39 -40.58  14.99  Very high   \n",
       "4  -49.84  -4224.12   6    Rest -10197.84 -346.17 -47.04   8.92       High   \n",
       "\n",
       "      F10  ...     F28      F29    F30     F31     F32      F33    F34  \\\n",
       "0  124.05  ... -506.31 -3077.82  15.35  -53.04 -112.43 -2537.30   4.06   \n",
       "1   57.78  ... -731.28 -4559.70  20.74  -36.44  -44.06 -2384.48  33.52   \n",
       "2  -65.88  ... -355.08 -3965.13  16.65  -76.06  -81.66 -2225.42  28.90   \n",
       "3  132.12  ... -518.52 -1509.87  21.99 -128.34 -142.53 -1320.10   1.12   \n",
       "4  113.31  ... -576.60 -1907.67  14.10   72.98  -75.83 -2019.04   8.16   \n",
       "\n",
       "      F35   F36   Target  \n",
       "0   40.32  3.18  2697.84  \n",
       "1  176.98  5.81  3632.57  \n",
       "2  165.00  2.85  2257.40  \n",
       "3  211.88  2.96  1785.03  \n",
       "4  154.32  2.92  1063.23  \n",
       "\n",
       "[5 rows x 37 columns]"
      ]
     },
     "execution_count": 3,
     "metadata": {},
     "output_type": "execute_result"
    }
   ],
   "source": [
    "#Explore the data in detail\n",
    "P3_Data=Data\n",
    "P3_Data.head()"
   ]
  },
  {
   "cell_type": "code",
   "execution_count": 4,
   "id": "f4e3a085",
   "metadata": {},
   "outputs": [
    {
     "data": {
      "text/plain": [
       "F1        float64\n",
       "F2        float64\n",
       "F3          int64\n",
       "F4         object\n",
       "F5        float64\n",
       "F6        float64\n",
       "F7        float64\n",
       "F8        float64\n",
       "F9         object\n",
       "F10       float64\n",
       "F11       float64\n",
       "F12       float64\n",
       "F13       float64\n",
       "F14       float64\n",
       "F15       float64\n",
       "F16       float64\n",
       "F17       float64\n",
       "F18       float64\n",
       "F19       float64\n",
       "F20       float64\n",
       "F21       float64\n",
       "F22       float64\n",
       "F23       float64\n",
       "F24       float64\n",
       "F25       float64\n",
       "F26         int64\n",
       "F27       float64\n",
       "F28       float64\n",
       "F29       float64\n",
       "F30       float64\n",
       "F31       float64\n",
       "F32       float64\n",
       "F33       float64\n",
       "F34       float64\n",
       "F35       float64\n",
       "F36       float64\n",
       "Target    float64\n",
       "dtype: object"
      ]
     },
     "execution_count": 4,
     "metadata": {},
     "output_type": "execute_result"
    }
   ],
   "source": [
    "# Detailed study on data types\n",
    "P3_Data.dtypes"
   ]
  },
  {
   "cell_type": "code",
   "execution_count": 5,
   "id": "a5ce9f56",
   "metadata": {},
   "outputs": [
    {
     "data": {
      "text/plain": [
       "<AxesSubplot:>"
      ]
     },
     "execution_count": 5,
     "metadata": {},
     "output_type": "execute_result"
    },
    {
     "data": {
      "image/png": "[encoded data removed]",
      "text/plain": [
       "<Figure size 720x360 with 3 Axes>"
      ]
     },
     "metadata": {
      "needs_background": "light"
     },
     "output_type": "display_data"
    }
   ],
   "source": [
    "# Visualising data to understand the missing values\n",
    "import missingno as msno\n",
    "%matplotlib inline\n",
    "#msno.heatmap(Data)\n",
    "msno.bar(P3_Data, color=\"dodgerblue\", sort=\"ascending\", figsize=(10,5), fontsize=12)"
   ]
  },
  {
   "cell_type": "code",
   "execution_count": 6,
   "id": "a3b2915a",
   "metadata": {},
   "outputs": [],
   "source": [
    "#Changing categorical value to numbers through label encoding\n",
    "cleanup = {\"F4\": {\"Europe\":0, \"UK\":1, \"USA\":2, \"Rest\":3}, \"F9\":{\"Very high\":1, \"High\":2, \"Medium\":3, \"Low\":4, \"Very low\":5}}\n",
    "P3_Data.replace(cleanup, inplace=True)"
   ]
  },
  {
   "cell_type": "code",
   "execution_count": 7,
   "id": "196b745e",
   "metadata": {},
   "outputs": [],
   "source": [
    "#extracting dependent and independet features separately for testing and training the data\n",
    "features = P3_Data.drop('Target', axis=1)\n",
    "predictor = P3_Data['Target']"
   ]
  },
  {
   "cell_type": "code",
   "execution_count": 8,
   "id": "6933f2d1",
   "metadata": {},
   "outputs": [],
   "source": [
    "#Test train split to apply on various models\n",
    "from sklearn.model_selection import train_test_split\n",
    "X_train, X_test, y_train, y_test = train_test_split(features, predictor, test_size = 0.33, random_state = 10)"
   ]
  },
  {
   "cell_type": "code",
   "execution_count": 9,
   "id": "845c2e0f",
   "metadata": {},
   "outputs": [],
   "source": [
    "#Make a copy\n",
    "Linear_X_train=X_train.copy()\n",
    "Linear_y_train=y_train.copy()\n",
    "Linear_X_test=X_test.copy()\n",
    "Linear_y_test=y_test.copy()"
   ]
  },
  {
   "cell_type": "code",
   "execution_count": 10,
   "id": "f0e0481c",
   "metadata": {},
   "outputs": [],
   "source": [
    "#Scaling of input data\n",
    "from sklearn.preprocessing import StandardScaler\n",
    "sc = StandardScaler()\n",
    "Linear_X_train = sc.fit_transform(Linear_X_train)\n",
    "Linear_X_test = sc.transform(Linear_X_test)"
   ]
  },
  {
   "cell_type": "code",
   "execution_count": 11,
   "id": "252b379f",
   "metadata": {},
   "outputs": [],
   "source": [
    "#Applying the linear regression method\n",
    "from sklearn.linear_model import LinearRegression\n",
    "reg=LinearRegression()\n",
    "fitted_lr=reg.fit(Linear_X_train, Linear_y_train.values.ravel())"
   ]
  },
  {
   "cell_type": "code",
   "execution_count": 12,
   "id": "bdde67f4",
   "metadata": {},
   "outputs": [],
   "source": [
    "#Predicting the test and train on the build model\n",
    "y_train_pred=reg.predict(Linear_X_train)\n",
    "y_test_pred=reg.predict(Linear_X_test)"
   ]
  },
  {
   "cell_type": "code",
   "execution_count": 13,
   "id": "cc5de581",
   "metadata": {},
   "outputs": [
    {
     "data": {
      "text/plain": [
       "<seaborn.axisgrid.FacetGrid at 0x20ce3bad550>"
      ]
     },
     "execution_count": 13,
     "metadata": {},
     "output_type": "execute_result"
    },
    {
     "data": {
      "image/png": "[encoded data removed]",
      "text/plain": [
       "<Figure size 360x360 with 1 Axes>"
      ]
     },
     "metadata": {
      "needs_background": "light"
     },
     "output_type": "display_data"
    }
   ],
   "source": [
    "#visualizing prediction as difference of prediction and y_test\n",
    "#varience in between -10 to +10/ but here its too worst\n",
    "import seaborn as sns\n",
    "sns.displot(y_test_pred-Linear_y_test, kind='kde')"
   ]
  },
  {
   "cell_type": "code",
   "execution_count": 14,
   "id": "f7aded57",
   "metadata": {},
   "outputs": [
    {
     "name": "stdout",
     "output_type": "stream",
     "text": [
      "R2 Score: 61.18%\n"
     ]
    }
   ],
   "source": [
    "#Calculating R2 value\n",
    "from sklearn.metrics import r2_score \n",
    "Linear_score='{:.2%}'.format(r2_score(Linear_y_test, y_test_pred))\n",
    "print('R2 Score:', Linear_score)"
   ]
  },
  {
   "cell_type": "code",
   "execution_count": 15,
   "id": "670c556e",
   "metadata": {},
   "outputs": [
    {
     "data": {
      "text/plain": [
       "559715.6210432777"
      ]
     },
     "execution_count": 15,
     "metadata": {},
     "output_type": "execute_result"
    }
   ],
   "source": [
    "#Calculating mean square error value\n",
    "from sklearn.metrics import mean_squared_error\n",
    "mse_error=mean_squared_error(Linear_y_test, y_test_pred)\n",
    "mse_error"
   ]
  },
  {
   "cell_type": "code",
   "execution_count": 16,
   "id": "4f6c8535",
   "metadata": {},
   "outputs": [
    {
     "data": {
      "text/html": [
       "<div>\n",
       "<style scoped>\n",
       "    .dataframe tbody tr th:only-of-type {\n",
       "        vertical-align: middle;\n",
       "    }\n",
       "\n",
       "    .dataframe tbody tr th {\n",
       "        vertical-align: top;\n",
       "    }\n",
       "\n",
       "    .dataframe thead th {\n",
       "        text-align: right;\n",
       "    }\n",
       "</style>\n",
       "<table border=\"1\" class=\"dataframe\">\n",
       "  <thead>\n",
       "    <tr style=\"text-align: right;\">\n",
       "      <th></th>\n",
       "      <th>Actual Value</th>\n",
       "      <th>Predicted Value</th>\n",
       "      <th>Difference</th>\n",
       "    </tr>\n",
       "  </thead>\n",
       "  <tbody>\n",
       "    <tr>\n",
       "      <th>633</th>\n",
       "      <td>1172.10</td>\n",
       "      <td>1815.309772</td>\n",
       "      <td>-643.209772</td>\n",
       "    </tr>\n",
       "    <tr>\n",
       "      <th>56</th>\n",
       "      <td>1232.01</td>\n",
       "      <td>1306.957707</td>\n",
       "      <td>-74.947707</td>\n",
       "    </tr>\n",
       "    <tr>\n",
       "      <th>1245</th>\n",
       "      <td>595.52</td>\n",
       "      <td>900.124576</td>\n",
       "      <td>-304.604576</td>\n",
       "    </tr>\n",
       "    <tr>\n",
       "      <th>1306</th>\n",
       "      <td>721.76</td>\n",
       "      <td>505.965438</td>\n",
       "      <td>215.794562</td>\n",
       "    </tr>\n",
       "    <tr>\n",
       "      <th>1031</th>\n",
       "      <td>18.86</td>\n",
       "      <td>-782.807727</td>\n",
       "      <td>801.667727</td>\n",
       "    </tr>\n",
       "    <tr>\n",
       "      <th>...</th>\n",
       "      <td>...</td>\n",
       "      <td>...</td>\n",
       "      <td>...</td>\n",
       "    </tr>\n",
       "    <tr>\n",
       "      <th>679</th>\n",
       "      <td>794.82</td>\n",
       "      <td>1230.731320</td>\n",
       "      <td>-435.911320</td>\n",
       "    </tr>\n",
       "    <tr>\n",
       "      <th>1487</th>\n",
       "      <td>3367.71</td>\n",
       "      <td>1694.992808</td>\n",
       "      <td>1672.717192</td>\n",
       "    </tr>\n",
       "    <tr>\n",
       "      <th>467</th>\n",
       "      <td>956.04</td>\n",
       "      <td>596.995779</td>\n",
       "      <td>359.044221</td>\n",
       "    </tr>\n",
       "    <tr>\n",
       "      <th>1428</th>\n",
       "      <td>3407.15</td>\n",
       "      <td>1613.332677</td>\n",
       "      <td>1793.817323</td>\n",
       "    </tr>\n",
       "    <tr>\n",
       "      <th>411</th>\n",
       "      <td>-24.35</td>\n",
       "      <td>-470.603033</td>\n",
       "      <td>446.253033</td>\n",
       "    </tr>\n",
       "  </tbody>\n",
       "</table>\n",
       "<p>495 rows × 3 columns</p>\n",
       "</div>"
      ],
      "text/plain": [
       "      Actual Value  Predicted Value   Difference\n",
       "633        1172.10      1815.309772  -643.209772\n",
       "56         1232.01      1306.957707   -74.947707\n",
       "1245        595.52       900.124576  -304.604576\n",
       "1306        721.76       505.965438   215.794562\n",
       "1031         18.86      -782.807727   801.667727\n",
       "...            ...              ...          ...\n",
       "679         794.82      1230.731320  -435.911320\n",
       "1487       3367.71      1694.992808  1672.717192\n",
       "467         956.04       596.995779   359.044221\n",
       "1428       3407.15      1613.332677  1793.817323\n",
       "411         -24.35      -470.603033   446.253033\n",
       "\n",
       "[495 rows x 3 columns]"
      ]
     },
     "execution_count": 16,
     "metadata": {},
     "output_type": "execute_result"
    }
   ],
   "source": [
    "#Comparing the test and predicted value\n",
    "pred_list=pd.DataFrame({'Actual Value':Linear_y_test,'Predicted Value': y_test_pred, 'Difference':Linear_y_test-y_test_pred})\n",
    "pred_list"
   ]
  },
  {
   "cell_type": "markdown",
   "id": "0d6075a7",
   "metadata": {},
   "source": [
    "## Random Forest"
   ]
  },
  {
   "cell_type": "code",
   "execution_count": 17,
   "id": "b6c244b1",
   "metadata": {},
   "outputs": [],
   "source": [
    "#Make a copy\n",
    "Forest_X_train=X_train.copy()\n",
    "Forest_y_train=y_train.copy()\n",
    "Forest_X_test=X_test.copy()\n",
    "Forest_y_test=y_test.copy()"
   ]
  },
  {
   "cell_type": "code",
   "execution_count": 18,
   "id": "039a9773",
   "metadata": {},
   "outputs": [],
   "source": [
    "#Scaling of input data\n",
    "from sklearn.preprocessing import StandardScaler\n",
    "sc_forest = StandardScaler()\n",
    "\n",
    "#Fitting the data\n",
    "Forest_X_train = sc_forest.fit_transform(Forest_X_train)\n",
    "Forest_X_test = sc_forest.transform(Forest_X_test)"
   ]
  },
  {
   "cell_type": "code",
   "execution_count": 19,
   "id": "4fd491df",
   "metadata": {},
   "outputs": [],
   "source": [
    "#Applying Randon Forest method\n",
    "from sklearn.ensemble import RandomForestRegressor\n",
    "#from sklearn.datasets import make_classification\n",
    "Randomclf = RandomForestRegressor(max_depth=2, random_state=0)\n",
    "fitted_rf=Randomclf.fit(Forest_X_train, Forest_y_train)"
   ]
  },
  {
   "cell_type": "code",
   "execution_count": 20,
   "id": "c9b9eadb",
   "metadata": {},
   "outputs": [],
   "source": [
    "#Predicting the test and train set results\n",
    "y_train_pred=Randomclf.predict(Forest_X_train)\n",
    "y_test_pred=Randomclf.predict(Forest_X_test)"
   ]
  },
  {
   "cell_type": "code",
   "execution_count": 21,
   "id": "34a3aa86",
   "metadata": {},
   "outputs": [
    {
     "name": "stdout",
     "output_type": "stream",
     "text": [
      "R2 Score: 28.71%\n"
     ]
    }
   ],
   "source": [
    "#Calculating R2 value\n",
    "from sklearn.metrics import r2_score \n",
    "Forest_r2Score='{:.2%}'.format(r2_score(Forest_y_test, y_test_pred))\n",
    "print('R2 Score:', Forest_r2Score)"
   ]
  },
  {
   "cell_type": "code",
   "execution_count": 22,
   "id": "60692bdb",
   "metadata": {},
   "outputs": [
    {
     "data": {
      "text/plain": [
       "1027826.7385293592"
      ]
     },
     "execution_count": 22,
     "metadata": {},
     "output_type": "execute_result"
    }
   ],
   "source": [
    "#Calculating mean square error value\n",
    "from sklearn import metrics\n",
    "mse_error=metrics.mean_squared_error(Forest_y_test, y_test_pred)\n",
    "mse_error"
   ]
  },
  {
   "cell_type": "markdown",
   "id": "6a444728",
   "metadata": {},
   "source": [
    "## Ridge"
   ]
  },
  {
   "cell_type": "code",
   "execution_count": 23,
   "id": "ed2b097f",
   "metadata": {},
   "outputs": [],
   "source": [
    "#Make a copy\n",
    "Ridge_X_train=X_train.copy()\n",
    "Ridge_y_train=y_train.copy()\n",
    "Ridge_X_test=X_test.copy()\n",
    "Ridge_y_test=y_test.copy()"
   ]
  },
  {
   "cell_type": "code",
   "execution_count": 24,
   "id": "bbec8704",
   "metadata": {},
   "outputs": [],
   "source": [
    "#Scaling of input data\n",
    "from sklearn.preprocessing import StandardScaler\n",
    "sc_ridge = StandardScaler()\n",
    "#Fitting the data\n",
    "Ridge_X_train = sc_ridge.fit_transform(Ridge_X_train)\n",
    "Ridge_X_test = sc_ridge.transform(Ridge_X_test)"
   ]
  },
  {
   "cell_type": "code",
   "execution_count": 25,
   "id": "b87438a9",
   "metadata": {},
   "outputs": [],
   "source": [
    "#Applying the Ridge method\n",
    "from sklearn.linear_model import Ridge\n",
    "ridge = Ridge(alpha=1.0)\n",
    "fitted_rig=ridge.fit(Ridge_X_train,Ridge_y_train)"
   ]
  },
  {
   "cell_type": "code",
   "execution_count": 26,
   "id": "b1389572",
   "metadata": {},
   "outputs": [],
   "source": [
    "#Predicting the test and train set results\n",
    "Ridge_y_pred = ridge.predict(Ridge_X_test)"
   ]
  },
  {
   "cell_type": "code",
   "execution_count": 27,
   "id": "06acaff0",
   "metadata": {},
   "outputs": [
    {
     "name": "stdout",
     "output_type": "stream",
     "text": [
      "R2 Score: 61.18%\n"
     ]
    }
   ],
   "source": [
    "#Calculating R2 value\n",
    "#Highest value gives the best model\n",
    "from sklearn.metrics import r2_score \n",
    "Ridge_r2_score='{:.2%}'.format(r2_score(Ridge_y_test, Ridge_y_pred))\n",
    "print('R2 Score:', Ridge_r2_score)"
   ]
  },
  {
   "cell_type": "code",
   "execution_count": 28,
   "id": "f6f8ab8f",
   "metadata": {},
   "outputs": [
    {
     "data": {
      "text/plain": [
       "559631.0596058896"
      ]
     },
     "execution_count": 28,
     "metadata": {},
     "output_type": "execute_result"
    }
   ],
   "source": [
    "#Comparing the test and predicted value\n",
    "#near to 0 means better model with less difference\n",
    "from sklearn import metrics\n",
    "mse_error=metrics.mean_squared_error(Ridge_y_test, Ridge_y_pred)\n",
    "mse_error"
   ]
  },
  {
   "cell_type": "code",
   "execution_count": 29,
   "id": "5df95a39",
   "metadata": {},
   "outputs": [
    {
     "name": "stdout",
     "output_type": "stream",
     "text": [
      "Linear Regression train score 0.6531, linear test score: 0.6118\n",
      "Random Forest train score 0.3672, Random test score: 0.2871\n",
      "Ridge train score 0.6531, Ridge test score: 0.6118\n"
     ]
    }
   ],
   "source": [
    "#Displaying the score in one place for easy comparison\n",
    "print('Linear Regression train score %.4f, linear test score: %.4f' % (\n",
    "fitted_lr.score(Linear_X_train,Linear_y_train),\n",
    "fitted_lr.score(Linear_X_test, Linear_y_test)))\n",
    "print('Random Forest train score %.4f, Random test score: %.4f' % (\n",
    "fitted_rf.score(Forest_X_train,Forest_y_train),\n",
    "fitted_rf.score(Forest_X_test, Forest_y_test)))\n",
    "print('Ridge train score %.4f, Ridge test score: %.4f' % (\n",
    "fitted_rig.score(Ridge_X_train,Ridge_y_train),\n",
    "fitted_rig.score(Ridge_X_test, Ridge_y_test)))"
   ]
  },
  {
   "cell_type": "code",
   "execution_count": 30,
   "id": "e3dccb40",
   "metadata": {},
   "outputs": [
    {
     "data": {
      "text/plain": [
       "Text(0.5, 1.0, 'Actual vs Predicted')"
      ]
     },
     "execution_count": 30,
     "metadata": {},
     "output_type": "execute_result"
    },
    {
     "data": {
      "image/png": "[encoded data removed]",
      "text/plain": [
       "<Figure size 720x360 with 1 Axes>"
      ]
     },
     "metadata": {
      "needs_background": "light"
     },
     "output_type": "display_data"
    }
   ],
   "source": [
    "#Visualising actual vs predicted data to study the eveness in the distribution\n",
    "import matplotlib.pyplot as plt\n",
    "plt.figure(figsize=(10,5))\n",
    "plt.scatter(Ridge_y_test, Ridge_y_pred)\n",
    "plt.xlabel('Actual')\n",
    "plt.ylabel('Actual')\n",
    "plt.title('Actual vs Predicted')"
   ]
  },
  {
   "cell_type": "code",
   "execution_count": 31,
   "id": "d68e7552",
   "metadata": {},
   "outputs": [
    {
     "data": {
      "image/png": "[encoded data removed]",
      "text/plain": [
       "<Figure size 640x480 with 1 Axes>"
      ]
     },
     "metadata": {},
     "output_type": "display_data"
    }
   ],
   "source": [
    "#Comparison of R2 in various implemented algorithms\n",
    "import matplotlib.pyplot as plt; plt.rcdefaults()\n",
    "objects = ('Linear', 'RandomForest', 'Ridge')\n",
    "y_pos = np.arange(len(objects))\n",
    "performance = [0.6118,0.2870,0.6118]\n",
    "plt.bar(y_pos, performance, align='center', alpha=1)\n",
    "plt.xticks(y_pos, objects)\n",
    "plt.ylabel('R2 Score')\n",
    "plt.title('Algorithm')\n",
    "plt.show()"
   ]
  },
  {
   "cell_type": "code",
   "execution_count": 32,
   "id": "e88d3add",
   "metadata": {},
   "outputs": [
    {
     "data": {
      "image/png": "[encoded data removed]",
      "text/plain": [
       "<Figure size 640x480 with 1 Axes>"
      ]
     },
     "metadata": {},
     "output_type": "display_data"
    }
   ],
   "source": [
    "#Comparison of mean square error in various implemented algorithms\n",
    "import matplotlib.pyplot as plt; plt.rcdefaults()\n",
    "objects = ('Linear', 'RandomForest', 'Ridge')\n",
    "y_pos = np.arange(len(objects))\n",
    "performance = [559715.62,1027956.44,559704.59]\n",
    "plt.bar(y_pos, performance, align='center', alpha=1)\n",
    "plt.xticks(y_pos, objects)\n",
    "plt.ylabel('Mean Square Error')\n",
    "plt.title('Algorithm')\n",
    "plt.show()"
   ]
  },
  {
   "cell_type": "markdown",
   "id": "93b2f57c",
   "metadata": {},
   "source": [
    "# PART B"
   ]
  },
  {
   "cell_type": "code",
   "execution_count": 33,
   "id": "7b35f0cf",
   "metadata": {},
   "outputs": [],
   "source": [
    "# Load the test data\n",
    "test_df = pd.read_csv('P3\\CE802_P3_Test.csv')\n",
    "P3_Test=test_df"
   ]
  },
  {
   "cell_type": "code",
   "execution_count": 34,
   "id": "64ed42e3",
   "metadata": {},
   "outputs": [],
   "source": [
    "P3_Test = test_df.iloc[:,:-1].copy()"
   ]
  },
  {
   "cell_type": "code",
   "execution_count": 35,
   "id": "ded8061e",
   "metadata": {},
   "outputs": [],
   "source": [
    "#Changing categorical value to numbers\n",
    "cleanup = {\"F4\": {\"Europe\":0, \"UK\":1, \"USA\":2, \"Rest\":3}, \"F9\":{\"Very high\":1, \"High\":2, \"Medium\":3, \"Low\":4, \"Very low\":5}}\n",
    "P3_Test.replace(cleanup, inplace=True)"
   ]
  },
  {
   "cell_type": "code",
   "execution_count": 36,
   "id": "2fa39b77",
   "metadata": {},
   "outputs": [],
   "source": [
    "#Scaling and data transformation\n",
    "test_data=sc_ridge.transform(P3_Test)"
   ]
  },
  {
   "cell_type": "code",
   "execution_count": 37,
   "id": "08b4dcdb",
   "metadata": {},
   "outputs": [],
   "source": [
    "y_pred = ridge.predict(test_data)"
   ]
  },
  {
   "cell_type": "code",
   "execution_count": 38,
   "id": "04f63985",
   "metadata": {},
   "outputs": [],
   "source": [
    "# Replace the last (empty) column with your prediction in the orginal data frame\n",
    "test_df.iloc[:,-1] = y_pred"
   ]
  },
  {
   "cell_type": "code",
   "execution_count": 39,
   "id": "43568f82",
   "metadata": {},
   "outputs": [],
   "source": [
    "# Save to the destination file\n",
    "test_df.to_csv('CE802_P3_Test_Predictions.csv', index=False, float_format='%.8g')"
   ]
  },
  {
   "cell_type": "code",
   "execution_count": 40,
   "id": "8f2828f3",
   "metadata": {},
   "outputs": [],
   "source": [
    "# HERE YOU WILL USE THIS TEMPLATE TO SAVE THE PREDICTIONS ON THE TEST SET\n",
    "\n",
    "# IMPORTANT!! Make sure only the last column has changed\n",
    "assert pd.read_csv('P3\\CE802_P3_Test.csv').iloc[:,:-1].equals(pd.read_csv('CE802_P3_Test_Predictions.csv').iloc[:,:-1])"
   ]
  },
  {
   "cell_type": "code",
   "execution_count": null,
   "id": "4a3f2597",
   "metadata": {},
   "outputs": [],
   "source": []
  }
 ],
 "metadata": {
  "kernelspec": {
   "display_name": "Python 3 (ipykernel)",
   "language": "python",
   "name": "python3"
  },
  "language_info": {
   "codemirror_mode": {
    "name": "ipython",
    "version": 3
   },
   "file_extension": ".py",
   "mimetype": "text/x-python",
   "name": "python",
   "nbconvert_exporter": "python",
   "pygments_lexer": "ipython3",
   "version": "3.9.12"
  }
 },
 "nbformat": 4,
 "nbformat_minor": 5
}
